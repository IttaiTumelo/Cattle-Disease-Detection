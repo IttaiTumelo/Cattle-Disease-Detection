{
 "cells": [
  {
   "cell_type": "code",
   "execution_count": 2,
   "metadata": {},
   "outputs": [],
   "source": [
    "# Import libraries\n",
    "import pandas as pd\n",
    "import numpy as np\n",
    "import tensorflow as tf\n",
    "from sklearn.model_selection import train_test_split\n",
    "from sklearn.preprocessing import LabelEncoder"
   ]
  },
  {
   "cell_type": "code",
   "execution_count": 3,
   "metadata": {},
   "outputs": [],
   "source": [
    "\n",
    "# Load data from csv file\n",
    "data = pd.read_csv(\"dataset_training.csv\")"
   ]
  },
  {
   "cell_type": "code",
   "execution_count": 4,
   "metadata": {},
   "outputs": [],
   "source": [
    "# Separate features and labels\n",
    "X = data.drop(\"Disease\", axis=1)\n",
    "y = data[\"Disease\"]"
   ]
  },
  {
   "cell_type": "code",
   "execution_count": 5,
   "metadata": {},
   "outputs": [],
   "source": [
    "# Encode labels to numerical values\n",
    "le = LabelEncoder()\n",
    "y = le.fit_transform(y)"
   ]
  },
  {
   "cell_type": "code",
   "execution_count": 6,
   "metadata": {},
   "outputs": [],
   "source": [
    "# Split data into train and test sets\n",
    "X_train, X_test, y_train, y_test = train_test_split(X, y, test_size=0.2, random_state=42)\n"
   ]
  },
  {
   "cell_type": "code",
   "execution_count": 7,
   "metadata": {},
   "outputs": [],
   "source": [
    "# Build a DNN model using tensorflow\n",
    "model = tf.keras.Sequential([\n",
    "    tf.keras.layers.Dense(64, activation=\"relu\", input_shape=(X.shape[1],)),\n",
    "    tf.keras.layers.Dense(32, activation=\"relu\"),\n",
    "    tf.keras.layers.Dense(len(le.classes_), activation=\"softmax\")\n",
    "])"
   ]
  },
  {
   "cell_type": "code",
   "execution_count": 8,
   "metadata": {},
   "outputs": [],
   "source": [
    "# Compile the model\n",
    "model.compile(optimizer=\"adam\", loss=\"sparse_categorical_crossentropy\", metrics=[\"accuracy\"])\n"
   ]
  },
  {
   "cell_type": "code",
   "execution_count": 9,
   "metadata": {},
   "outputs": [
    {
     "name": "stdout",
     "output_type": "stream",
     "text": [
      "Epoch 1/50\n"
     ]
    },
    {
     "name": "stderr",
     "output_type": "stream",
     "text": [
      "2023-05-19 11:50:32.577647: W tensorflow/tsl/platform/profile_utils/cpu_utils.cc:128] Failed to get CPU frequency: 0 Hz\n"
     ]
    },
    {
     "name": "stdout",
     "output_type": "stream",
     "text": [
      "32/32 [==============================] - 0s 5ms/step - loss: 3.7570 - accuracy: 0.0000e+00 - val_loss: 3.7504 - val_accuracy: 0.0000e+00\n",
      "Epoch 2/50\n",
      "32/32 [==============================] - 0s 1ms/step - loss: 3.6165 - accuracy: 0.0625 - val_loss: 3.8647 - val_accuracy: 0.0000e+00\n",
      "Epoch 3/50\n",
      "32/32 [==============================] - 0s 1ms/step - loss: 3.4998 - accuracy: 0.0938 - val_loss: 3.9766 - val_accuracy: 0.0000e+00\n",
      "Epoch 4/50\n",
      "32/32 [==============================] - 0s 1ms/step - loss: 3.3771 - accuracy: 0.1875 - val_loss: 4.1172 - val_accuracy: 0.0000e+00\n",
      "Epoch 5/50\n",
      "32/32 [==============================] - 0s 1ms/step - loss: 3.2415 - accuracy: 0.2188 - val_loss: 4.3135 - val_accuracy: 0.0000e+00\n",
      "Epoch 6/50\n",
      "32/32 [==============================] - 0s 2ms/step - loss: 3.0871 - accuracy: 0.4062 - val_loss: 4.5521 - val_accuracy: 0.0000e+00\n",
      "Epoch 7/50\n",
      "32/32 [==============================] - 0s 1ms/step - loss: 2.9127 - accuracy: 0.5000 - val_loss: 4.8028 - val_accuracy: 0.0000e+00\n",
      "Epoch 8/50\n",
      "32/32 [==============================] - 0s 1ms/step - loss: 2.7324 - accuracy: 0.5938 - val_loss: 5.1574 - val_accuracy: 0.0000e+00\n",
      "Epoch 9/50\n",
      "32/32 [==============================] - 0s 1ms/step - loss: 2.5117 - accuracy: 0.6562 - val_loss: 5.5198 - val_accuracy: 0.0000e+00\n",
      "Epoch 10/50\n",
      "32/32 [==============================] - 0s 1ms/step - loss: 2.3036 - accuracy: 0.6562 - val_loss: 5.9119 - val_accuracy: 0.0000e+00\n",
      "Epoch 11/50\n",
      "32/32 [==============================] - 0s 1ms/step - loss: 2.1069 - accuracy: 0.6875 - val_loss: 6.2710 - val_accuracy: 0.0000e+00\n",
      "Epoch 12/50\n",
      "32/32 [==============================] - 0s 1ms/step - loss: 1.9068 - accuracy: 0.8438 - val_loss: 6.6514 - val_accuracy: 0.0000e+00\n",
      "Epoch 13/50\n",
      "32/32 [==============================] - 0s 1ms/step - loss: 1.6985 - accuracy: 0.8438 - val_loss: 7.0514 - val_accuracy: 0.0000e+00\n",
      "Epoch 14/50\n",
      "32/32 [==============================] - 0s 1ms/step - loss: 1.5131 - accuracy: 0.8750 - val_loss: 7.3441 - val_accuracy: 0.0000e+00\n",
      "Epoch 15/50\n",
      "32/32 [==============================] - 0s 1ms/step - loss: 1.3201 - accuracy: 0.8438 - val_loss: 7.7571 - val_accuracy: 0.0000e+00\n",
      "Epoch 16/50\n",
      "32/32 [==============================] - 0s 1ms/step - loss: 1.1650 - accuracy: 0.9062 - val_loss: 8.0665 - val_accuracy: 0.0000e+00\n",
      "Epoch 17/50\n",
      "32/32 [==============================] - 0s 1ms/step - loss: 1.0124 - accuracy: 0.9375 - val_loss: 8.3737 - val_accuracy: 0.0000e+00\n",
      "Epoch 18/50\n",
      "32/32 [==============================] - 0s 1ms/step - loss: 0.8789 - accuracy: 0.9688 - val_loss: 8.6795 - val_accuracy: 0.0000e+00\n",
      "Epoch 19/50\n",
      "32/32 [==============================] - 0s 1ms/step - loss: 0.7526 - accuracy: 0.9688 - val_loss: 8.9548 - val_accuracy: 0.0000e+00\n",
      "Epoch 20/50\n",
      "32/32 [==============================] - 0s 1ms/step - loss: 0.6447 - accuracy: 0.9688 - val_loss: 9.2408 - val_accuracy: 0.0000e+00\n",
      "Epoch 21/50\n",
      "32/32 [==============================] - 0s 2ms/step - loss: 0.5650 - accuracy: 0.9375 - val_loss: 9.4824 - val_accuracy: 0.0000e+00\n",
      "Epoch 22/50\n",
      "32/32 [==============================] - 0s 1ms/step - loss: 0.4935 - accuracy: 0.9688 - val_loss: 9.6582 - val_accuracy: 0.0000e+00\n",
      "Epoch 23/50\n",
      "32/32 [==============================] - 0s 1ms/step - loss: 0.4409 - accuracy: 0.9688 - val_loss: 9.9190 - val_accuracy: 0.0000e+00\n",
      "Epoch 24/50\n",
      "32/32 [==============================] - 0s 1ms/step - loss: 0.3896 - accuracy: 0.9375 - val_loss: 10.1157 - val_accuracy: 0.0000e+00\n",
      "Epoch 25/50\n",
      "32/32 [==============================] - 0s 1ms/step - loss: 0.3513 - accuracy: 0.9375 - val_loss: 10.2821 - val_accuracy: 0.0000e+00\n",
      "Epoch 26/50\n",
      "32/32 [==============================] - 0s 1ms/step - loss: 0.3186 - accuracy: 0.9375 - val_loss: 10.4187 - val_accuracy: 0.0000e+00\n",
      "Epoch 27/50\n",
      "32/32 [==============================] - 0s 1ms/step - loss: 0.2709 - accuracy: 0.9688 - val_loss: 10.6065 - val_accuracy: 0.0000e+00\n",
      "Epoch 28/50\n",
      "32/32 [==============================] - 0s 1ms/step - loss: 0.2583 - accuracy: 0.9688 - val_loss: 10.7097 - val_accuracy: 0.0000e+00\n",
      "Epoch 29/50\n",
      "32/32 [==============================] - 0s 1ms/step - loss: 0.2229 - accuracy: 0.9688 - val_loss: 10.8535 - val_accuracy: 0.0000e+00\n",
      "Epoch 30/50\n",
      "32/32 [==============================] - 0s 1ms/step - loss: 0.2060 - accuracy: 0.9375 - val_loss: 10.9812 - val_accuracy: 0.0000e+00\n",
      "Epoch 31/50\n",
      "32/32 [==============================] - 0s 1ms/step - loss: 0.2020 - accuracy: 0.9375 - val_loss: 11.0973 - val_accuracy: 0.0000e+00\n",
      "Epoch 32/50\n",
      "32/32 [==============================] - 0s 1ms/step - loss: 0.1778 - accuracy: 0.9375 - val_loss: 11.2041 - val_accuracy: 0.0000e+00\n",
      "Epoch 33/50\n",
      "32/32 [==============================] - 0s 1ms/step - loss: 0.1718 - accuracy: 0.9375 - val_loss: 11.2897 - val_accuracy: 0.0000e+00\n",
      "Epoch 34/50\n",
      "32/32 [==============================] - 0s 1ms/step - loss: 0.1627 - accuracy: 0.9375 - val_loss: 11.3748 - val_accuracy: 0.0000e+00\n",
      "Epoch 35/50\n",
      "32/32 [==============================] - 0s 1ms/step - loss: 0.1430 - accuracy: 0.9688 - val_loss: 11.4567 - val_accuracy: 0.0000e+00\n",
      "Epoch 36/50\n",
      "32/32 [==============================] - 0s 1ms/step - loss: 0.1427 - accuracy: 0.9375 - val_loss: 11.5570 - val_accuracy: 0.0000e+00\n",
      "Epoch 37/50\n",
      "32/32 [==============================] - 0s 1ms/step - loss: 0.1416 - accuracy: 0.9688 - val_loss: 11.6422 - val_accuracy: 0.0000e+00\n",
      "Epoch 38/50\n",
      "32/32 [==============================] - 0s 1ms/step - loss: 0.1357 - accuracy: 0.9688 - val_loss: 11.7023 - val_accuracy: 0.0000e+00\n",
      "Epoch 39/50\n",
      "32/32 [==============================] - 0s 1ms/step - loss: 0.1143 - accuracy: 0.9688 - val_loss: 11.7734 - val_accuracy: 0.0000e+00\n",
      "Epoch 40/50\n",
      "32/32 [==============================] - 0s 1ms/step - loss: 0.1130 - accuracy: 0.9688 - val_loss: 11.8549 - val_accuracy: 0.0000e+00\n",
      "Epoch 41/50\n",
      "32/32 [==============================] - 0s 1ms/step - loss: 0.1173 - accuracy: 0.9375 - val_loss: 11.9249 - val_accuracy: 0.0000e+00\n",
      "Epoch 42/50\n",
      "32/32 [==============================] - 0s 1ms/step - loss: 0.1167 - accuracy: 0.9688 - val_loss: 11.9698 - val_accuracy: 0.0000e+00\n",
      "Epoch 43/50\n",
      "32/32 [==============================] - 0s 1ms/step - loss: 0.1256 - accuracy: 0.9375 - val_loss: 12.0016 - val_accuracy: 0.0000e+00\n",
      "Epoch 44/50\n",
      "32/32 [==============================] - 0s 1ms/step - loss: 0.1000 - accuracy: 0.9375 - val_loss: 12.0626 - val_accuracy: 0.0000e+00\n",
      "Epoch 45/50\n",
      "32/32 [==============================] - 0s 1ms/step - loss: 0.1000 - accuracy: 0.9688 - val_loss: 12.1131 - val_accuracy: 0.0000e+00\n",
      "Epoch 46/50\n",
      "32/32 [==============================] - 0s 1ms/step - loss: 0.0904 - accuracy: 0.9688 - val_loss: 12.1665 - val_accuracy: 0.0000e+00\n",
      "Epoch 47/50\n",
      "32/32 [==============================] - 0s 1ms/step - loss: 0.0947 - accuracy: 0.9375 - val_loss: 12.2169 - val_accuracy: 0.0000e+00\n",
      "Epoch 48/50\n",
      "32/32 [==============================] - 0s 2ms/step - loss: 0.0943 - accuracy: 0.9688 - val_loss: 12.2551 - val_accuracy: 0.0000e+00\n",
      "Epoch 49/50\n",
      "32/32 [==============================] - 0s 1ms/step - loss: 0.0866 - accuracy: 0.9375 - val_loss: 12.3312 - val_accuracy: 0.0000e+00\n",
      "Epoch 50/50\n",
      "32/32 [==============================] - 0s 1ms/step - loss: 0.0849 - accuracy: 0.9688 - val_loss: 12.3762 - val_accuracy: 0.0000e+00\n"
     ]
    },
    {
     "data": {
      "text/plain": [
       "<keras.callbacks.History at 0x153a7e8b0>"
      ]
     },
     "execution_count": 9,
     "metadata": {},
     "output_type": "execute_result"
    }
   ],
   "source": [
    "# Train the model\n",
    "model.fit(X_train, y_train, epochs=50, batch_size=1, validation_data=(X_test, y_test))\n"
   ]
  },
  {
   "cell_type": "code",
   "execution_count": 10,
   "metadata": {},
   "outputs": [
    {
     "name": "stdout",
     "output_type": "stream",
     "text": [
      "1/1 [==============================] - 0s 81ms/step - loss: 12.3762 - accuracy: 0.0000e+00\n"
     ]
    },
    {
     "data": {
      "text/plain": [
       "[12.376169204711914, 0.0]"
      ]
     },
     "execution_count": 10,
     "metadata": {},
     "output_type": "execute_result"
    }
   ],
   "source": [
    "# Evaluate the model on test data\n",
    "model.evaluate(X_test, y_test)"
   ]
  },
  {
   "cell_type": "code",
   "execution_count": 11,
   "metadata": {},
   "outputs": [
    {
     "name": "stdout",
     "output_type": "stream",
     "text": [
      "1/1 [==============================] - 0s 54ms/step\n",
      "[[3.22338528e-05 9.24681779e-03 1.21228754e-06 3.12065531e-04\n",
      "  9.83273960e-04 6.90104021e-03 1.09378686e-06 1.30852116e-02\n",
      "  1.10362738e-03 9.83480248e-04 4.74486593e-03 1.14449115e-07\n",
      "  5.01176855e-03 1.19409353e-01 5.99080406e-04 1.84290914e-03\n",
      "  6.89710900e-02 1.66872400e-03 1.19941659e-01 1.13109179e-01\n",
      "  8.55255275e-05 7.25195548e-08 2.84056272e-02 1.84592139e-02\n",
      "  1.42405718e-03 1.39439805e-06 3.42149906e-05 2.28037043e-05\n",
      "  1.19154654e-01 9.72415437e-04 5.81172120e-04 7.50322613e-07\n",
      "  8.65998864e-03 3.37010657e-04 2.43758649e-07 3.44130397e-01\n",
      "  6.73517206e-06 6.01268493e-06 9.76883993e-03 6.21906153e-08]]\n",
      "The predicted disease is ['Parasitic Gastroenteritis'] with 34.41% confidence.\n"
     ]
    }
   ],
   "source": [
    "\n",
    "# Make predictions on new symptoms\n",
    "symptoms = np.array([[1,1,1,1,1,1,1,1,1,0,0,0,1,0,0]]) # example symptoms\n",
    "predictions = model.predict(symptoms)\n",
    "print(predictions)\n",
    "# Get the disease name and confidence score\n",
    "disease = le.inverse_transform([np.argmax(predictions)])\n",
    "confidence = np.max(predictions)\n",
    "print(f\"The predicted disease is {disease} with {confidence*100:.2f}% confidence.\")"
   ]
  },
  {
   "cell_type": "code",
   "execution_count": 12,
   "metadata": {},
   "outputs": [
    {
     "name": "stdout",
     "output_type": "stream",
     "text": [
      "Fever\n",
      "Loss Of Appetite\n",
      "Weight Loss\n",
      "Reduced Milk Production\n",
      "Coughing\n",
      "Nasal Discharge\n",
      "Diarrhoea\n",
      "Constipation\n",
      "Difficulty Breathing\n",
      "Lameness\n",
      "Swollen Joints\n",
      "Skin Lesions\n",
      "Bloating\n",
      "Dehydration\n",
      "Behavioural Change\n",
      "Disease\n",
      "['Fever', 'Loss Of Appetite', 'Weight Loss', 'Reduced Milk Production', 'Coughing', 'Nasal Discharge', 'Diarrhoea', 'Constipation', 'Difficulty Breathing', 'Lameness', 'Swollen Joints', 'Skin Lesions', 'Bloating', 'Dehydration', 'Behavioural Change']\n"
     ]
    }
   ],
   "source": [
    "import csv\n",
    "headers = []\n",
    "DATA_PATH = \"dataset_training.csv\"\n",
    "with open(DATA_PATH) as csv_file:\n",
    "     csv_reader = csv.reader(csv_file, delimiter=',')\n",
    "     headers = next(csv_reader)\n",
    "     # print(headers)\n",
    "#replace every first letter of the symptom with capital letter\n",
    "words = []\n",
    "for word in headers:\n",
    "     word = \" \".join([i.capitalize() for i in word.split(\"_\")])\n",
    "     words.append(word)\n",
    "     print(word)\n",
    "# headers = headers.replace(\"_\", \" \")\n",
    "# print(headers)\n",
    "#Capitalize the first letter after every _ without splitting\n",
    "# Headers = \"\";\n",
    "# for i in range(len(headers)):\n",
    "# \tif headers[i-1] == ',' or ' ':\n",
    "# \t\t# print(headers[i])\n",
    "# \t\tHeaders += headers[i].capitalize()\n",
    "# \telse: Headers += headers[i]\n",
    "# print(words)\n",
    "words = words[:-1]\n",
    "print(words)\n",
    "\t"
   ]
  },
  {
   "cell_type": "code",
   "execution_count": 13,
   "metadata": {},
   "outputs": [
    {
     "name": "stderr",
     "output_type": "stream",
     "text": [
      "/Users/ittaitumelo/miniforge3/envs/bushfire/lib/python3.8/site-packages/gradio/inputs.py:149: UserWarning: Usage of gradio.inputs is deprecated, and will not be supported in the future, please import your component from gradio.components\n",
      "  warnings.warn(\n",
      "/Users/ittaitumelo/miniforge3/envs/bushfire/lib/python3.8/site-packages/gradio/deprecation.py:40: UserWarning: `optional` parameter is deprecated, and it has no effect\n",
      "  warnings.warn(value)\n"
     ]
    },
    {
     "name": "stdout",
     "output_type": "stream",
     "text": [
      "Running on local URL:  http://127.0.0.1:7860\n",
      "\n",
      "To create a public link, set `share=True` in `launch()`.\n"
     ]
    },
    {
     "data": {
      "text/html": [
       "<div><iframe src=\"http://127.0.0.1:7860/\" width=\"100%\" height=\"500\" allow=\"autoplay; camera; microphone; clipboard-read; clipboard-write;\" frameborder=\"0\" allowfullscreen></iframe></div>"
      ],
      "text/plain": [
       "<IPython.core.display.HTML object>"
      ]
     },
     "metadata": {},
     "output_type": "display_data"
    },
    {
     "data": {
      "text/plain": []
     },
     "execution_count": 13,
     "metadata": {},
     "output_type": "execute_result"
    }
   ],
   "source": [
    "# Import gradio library\n",
    "import gradio as gr\n",
    "\n",
    "# Define a function that takes symptoms as input and returns disease prediction and confidence\n",
    "def predict_disease(symptoms):\n",
    "  print(symptoms)\n",
    "  \n",
    "  input_data = [0]*len(words)\n",
    "  for i in range(len(words)):\n",
    "    if words[i] in symptoms:\n",
    "      input_data[i] = 1\n",
    "  print(input_data)\n",
    "  # # Convert symptoms to numpy array\n",
    "  symptoms = np.array([input_data])\n",
    "  \n",
    "\n",
    "  # # Make predictions using the model\n",
    "  predictions = model.predict(symptoms)\n",
    "  \n",
    "  # # Get the disease name and confidence score\n",
    "  disease = le.inverse_transform([np.argmax(predictions)])[0]\n",
    "  confidence = np.max(predictions)\n",
    "  \n",
    "  # Return the output as a string\n",
    "  return f\"The predicted disease is {disease} with {confidence*100:.2f}% confidence.\"\n",
    "  # return f\"The predicted disease is confidence.\"\n",
    "\n",
    "# Create a gradio interface with a checkbox group for symptoms and a text output for prediction\n",
    "iface = gr.Interface(\n",
    "  fn=predict_disease,\n",
    "  inputs=gr.inputs.CheckboxGroup(words),\n",
    "  outputs=\"text\"\n",
    ")\n",
    "\n",
    "# Launch the interface\n",
    "iface.launch()\n",
    "\n",
    "\n",
    "\n",
    "\n",
    "\n",
    "\n",
    "\n",
    "\n",
    "\n",
    "\n",
    "\n",
    "\n"
   ]
  },
  {
   "cell_type": "code",
   "execution_count": 14,
   "metadata": {},
   "outputs": [
    {
     "name": "stdout",
     "output_type": "stream",
     "text": [
      "INFO:tensorflow:Assets written to: disease_model/assets\n"
     ]
    },
    {
     "name": "stderr",
     "output_type": "stream",
     "text": [
      "2023-05-19 11:50:40.348981: W tensorflow/compiler/mlir/lite/python/tf_tfl_flatbuffer_helpers.cc:364] Ignored output_format.\n",
      "2023-05-19 11:50:40.349005: W tensorflow/compiler/mlir/lite/python/tf_tfl_flatbuffer_helpers.cc:367] Ignored drop_control_dependency.\n"
     ]
    },
    {
     "name": "stdout",
     "output_type": "stream",
     "text": [
      "['Loss Of Appetite', 'Weight Loss', 'Nasal Discharge', 'Difficulty Breathing', 'Lameness']\n",
      "[0, 1, 1, 0, 0, 1, 0, 0, 1, 1, 0, 0, 0, 0, 0]\n",
      "1/1 [==============================] - 0s 16ms/step\n",
      "['Loss Of Appetite', 'Weight Loss', 'Nasal Discharge', 'Difficulty Breathing', 'Lameness', 'Dehydration', 'Constipation', 'Coughing']\n",
      "[0, 1, 1, 0, 1, 1, 0, 1, 1, 1, 0, 0, 0, 1, 0]\n",
      "1/1 [==============================] - 0s 17ms/step\n"
     ]
    }
   ],
   "source": [
    "\n",
    "# Save the model as a SavedModel\n",
    "model.save(\"disease_model\")\n",
    "\n",
    "# Convert the SavedModel to a tflite model\n",
    "converter = tf.lite.TFLiteConverter.from_saved_model(\"disease_model\")\n",
    "tflite_model = converter.convert()\n",
    "\n",
    "# Save the tflite model\n",
    "with open(\"disease_model.tflite\", \"wb\") as f:\n",
    "  f.write(tflite_model)\n"
   ]
  },
  {
   "cell_type": "code",
   "execution_count": null,
   "metadata": {},
   "outputs": [],
   "source": []
  },
  {
   "cell_type": "code",
   "execution_count": null,
   "metadata": {},
   "outputs": [],
   "source": []
  }
 ],
 "metadata": {
  "kernelspec": {
   "display_name": "bushfire",
   "language": "python",
   "name": "python3"
  },
  "language_info": {
   "codemirror_mode": {
    "name": "ipython",
    "version": 3
   },
   "file_extension": ".py",
   "mimetype": "text/x-python",
   "name": "python",
   "nbconvert_exporter": "python",
   "pygments_lexer": "ipython3",
   "version": "3.8.16"
  },
  "orig_nbformat": 4
 },
 "nbformat": 4,
 "nbformat_minor": 2
}
